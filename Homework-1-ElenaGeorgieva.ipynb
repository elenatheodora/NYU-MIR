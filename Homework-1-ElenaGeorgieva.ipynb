{
 "cells": [
  {
   "cell_type": "markdown",
   "metadata": {},
   "source": [
    "# Homework 1\n",
    "**Total Points: 5**\n",
    "\n",
    "**Instructions:**\n",
    "1. Complete parts 1 through 5, filling in code or responses where marked with `# YOUR CODE HERE` or `# YOUR RESPONSE HERE`.\n",
    "2. The libraries you need, in the order you need them, have already been coded. Do not import additional libraries or move import commands.\n",
    "3. When finished, run the full notebook by selecting <b>Kernel > Restart & Run All</b>. </li>\n",
    "4. Submit this completed notebook file to <b>NYU Classes</b>. </li>\n",
    "\n",
    "**Grading:** Each part is worth 1 point."
   ]
  },
  {
   "cell_type": "markdown",
   "metadata": {},
   "source": [
    "## Part 1: Setup \n",
    "Install and run **Python** and **Jupyter Notebook**, and import **numpy**, **librosa**, **matplotlib**, and **pandas** successfully. Do not edit the code in Part 1; this part is complete when \"`Libraries imported.`\" prints below the cell."
   ]
  },
  {
   "cell_type": "code",
   "execution_count": 1,
   "metadata": {},
   "outputs": [
    {
     "name": "stdout",
     "output_type": "stream",
     "text": [
      "Libraries imported.\n"
     ]
    }
   ],
   "source": [
    "import librosa\n",
    "import numpy\n",
    "import matplotlib.pyplot as plt\n",
    "import pandas\n",
    "\n",
    "print(\"Libraries imported.\")"
   ]
  },
  {
   "cell_type": "markdown",
   "metadata": {},
   "source": [
    "## Part 2: `my_midi_to_hz()`\n",
    "Write a function where the input is a MIDI note (integer or numpy array of notes) in the range 0-127 and the output is the center frequency (Hz) of that note. Use the equation $F_{pitch}(p)=2^{(p-69)/12} \\cdot 440$, where $p$ is the MIDI note(s) and $F_{pitch}(p)$ is the center frequency(ies).\n"
   ]
  },
  {
   "cell_type": "code",
   "execution_count": 2,
   "metadata": {},
   "outputs": [],
   "source": [
    "def my_midi_to_hz(note):\n",
    "\n",
    "    \"\"\"Convert MIDI notes to frequenies (Hz).\n",
    "    \n",
    "    Examples\n",
    "    --------\n",
    "    >>> my_midi_to_hz(70)\n",
    "    466.1637615180899\n",
    "    \n",
    "    >>> my_midi_to_hz([44,57,69])\n",
    "    [110. 220. 440.]\n",
    "\n",
    "    Parameters\n",
    "    ----------\n",
    "    note: int or numpy array of MIDI notes \n",
    "    \n",
    "\n",
    "    Returns\n",
    "    -------\n",
    "    frequency: float or numpy array of frequencies\n",
    "   \n",
    "    \"\"\"\n",
    "    f = 0\n",
    "    arr = []\n",
    "    if isinstance (note, int):\n",
    "        f = 440 * numpy.power(2,((note-69)/12))\n",
    "        print(f)\n",
    "    else:\n",
    "        for x in note:\n",
    "            f = 440 * numpy.power(2,((x-69)/12))    \n",
    "            arr = numpy.append(arr,f)\n",
    "        print (arr)\n",
    "    pass \n"
   ]
  },
  {
   "cell_type": "code",
   "execution_count": 3,
   "metadata": {},
   "outputs": [
    {
     "name": "stdout",
     "output_type": "stream",
     "text": [
      "466.1637615180899\n"
     ]
    }
   ],
   "source": [
    "my_midi_to_hz(70)"
   ]
  },
  {
   "cell_type": "markdown",
   "metadata": {},
   "source": [
    "## Part 3: Librosa and Pandas\n",
    "**Librosa** has a `midi_to_hz()` function. Use `pandas.DataFrame` to create a table with 2 columns and an index that will allow you to compare your function's output to Librosa. The index of each row will be the MIDI note number, one column will contain the output of `my_midi_to_hz()` and the other the output of `librosa.midi_to_hz()`. Compare MIDI values 65-80. Your conversion function (from Part 2) is correct if both outputs are equal for each row."
   ]
  },
  {
   "cell_type": "code",
   "execution_count": 4,
   "metadata": {},
   "outputs": [
    {
     "name": "stdout",
     "output_type": "stream",
     "text": [
      "[349.22823143 369.99442271 391.99543598 415.30469758 440.\n",
      " 466.16376152 493.88330126 523.2511306  554.36526195 587.32953583\n",
      " 622.25396744 659.25511383 698.45646287 739.98884542 783.99087196]\n"
     ]
    },
    {
     "data": {
      "text/html": [
       "<div>\n",
       "<style scoped>\n",
       "    .dataframe tbody tr th:only-of-type {\n",
       "        vertical-align: middle;\n",
       "    }\n",
       "\n",
       "    .dataframe tbody tr th {\n",
       "        vertical-align: top;\n",
       "    }\n",
       "\n",
       "    .dataframe thead th {\n",
       "        text-align: right;\n",
       "    }\n",
       "</style>\n",
       "<table border=\"1\" class=\"dataframe\">\n",
       "  <thead>\n",
       "    <tr style=\"text-align: right;\">\n",
       "      <th></th>\n",
       "      <th>My Function</th>\n",
       "      <th>Librosa</th>\n",
       "    </tr>\n",
       "  </thead>\n",
       "  <tbody>\n",
       "    <tr>\n",
       "      <th>65</th>\n",
       "      <td>NaN</td>\n",
       "      <td>349.228231</td>\n",
       "    </tr>\n",
       "    <tr>\n",
       "      <th>66</th>\n",
       "      <td>NaN</td>\n",
       "      <td>369.994423</td>\n",
       "    </tr>\n",
       "    <tr>\n",
       "      <th>67</th>\n",
       "      <td>NaN</td>\n",
       "      <td>391.995436</td>\n",
       "    </tr>\n",
       "    <tr>\n",
       "      <th>68</th>\n",
       "      <td>NaN</td>\n",
       "      <td>415.304698</td>\n",
       "    </tr>\n",
       "    <tr>\n",
       "      <th>69</th>\n",
       "      <td>NaN</td>\n",
       "      <td>440.000000</td>\n",
       "    </tr>\n",
       "    <tr>\n",
       "      <th>70</th>\n",
       "      <td>NaN</td>\n",
       "      <td>466.163762</td>\n",
       "    </tr>\n",
       "    <tr>\n",
       "      <th>71</th>\n",
       "      <td>NaN</td>\n",
       "      <td>493.883301</td>\n",
       "    </tr>\n",
       "    <tr>\n",
       "      <th>72</th>\n",
       "      <td>NaN</td>\n",
       "      <td>523.251131</td>\n",
       "    </tr>\n",
       "    <tr>\n",
       "      <th>73</th>\n",
       "      <td>NaN</td>\n",
       "      <td>554.365262</td>\n",
       "    </tr>\n",
       "    <tr>\n",
       "      <th>74</th>\n",
       "      <td>NaN</td>\n",
       "      <td>587.329536</td>\n",
       "    </tr>\n",
       "    <tr>\n",
       "      <th>75</th>\n",
       "      <td>NaN</td>\n",
       "      <td>622.253967</td>\n",
       "    </tr>\n",
       "    <tr>\n",
       "      <th>76</th>\n",
       "      <td>NaN</td>\n",
       "      <td>659.255114</td>\n",
       "    </tr>\n",
       "    <tr>\n",
       "      <th>77</th>\n",
       "      <td>NaN</td>\n",
       "      <td>698.456463</td>\n",
       "    </tr>\n",
       "    <tr>\n",
       "      <th>78</th>\n",
       "      <td>NaN</td>\n",
       "      <td>739.988845</td>\n",
       "    </tr>\n",
       "    <tr>\n",
       "      <th>79</th>\n",
       "      <td>NaN</td>\n",
       "      <td>783.990872</td>\n",
       "    </tr>\n",
       "  </tbody>\n",
       "</table>\n",
       "</div>"
      ],
      "text/plain": [
       "    My Function     Librosa\n",
       "65          NaN  349.228231\n",
       "66          NaN  369.994423\n",
       "67          NaN  391.995436\n",
       "68          NaN  415.304698\n",
       "69          NaN  440.000000\n",
       "70          NaN  466.163762\n",
       "71          NaN  493.883301\n",
       "72          NaN  523.251131\n",
       "73          NaN  554.365262\n",
       "74          NaN  587.329536\n",
       "75          NaN  622.253967\n",
       "76          NaN  659.255114\n",
       "77          NaN  698.456463\n",
       "78          NaN  739.988845\n",
       "79          NaN  783.990872"
      ]
     },
     "execution_count": 4,
     "metadata": {},
     "output_type": "execute_result"
    }
   ],
   "source": [
    "# The first line has been done for you\n",
    "df = pandas.DataFrame(index=numpy.arange(65,80), columns={'My Function','Librosa'})\n",
    "arr = numpy.arange(65,80)\n",
    "my_arr = my_midi_to_hz(arr)\n",
    "df['My Function'] = pandas.Series(my_arr,dtype='int32')\n",
    "df['Librosa'] = librosa.midi_to_hz(arr)\n",
    "df\n"
   ]
  },
  {
   "cell_type": "markdown",
   "metadata": {},
   "source": [
    "## Part 4: Plot Frequency and MIDI Notes\n",
    "With `matplotlib.pyplot`, use `plot` to create a graph showing the relationship between MIDI notes and their corresponding frequencies. Plot MIDI notes 10 through 90 on the X axis, and the corresponding frequencies (in Hz) on the Y axis. Label both axes correctly. Note that this library has been imported as `plt`.\n"
   ]
  },
  {
   "cell_type": "code",
   "execution_count": 5,
   "metadata": {
    "scrolled": true
   },
   "outputs": [
    {
     "data": {
      "text/plain": [
       "Text(0.5, 1.0, 'Plot Frequencies and MIDI Notes')"
      ]
     },
     "execution_count": 5,
     "metadata": {},
     "output_type": "execute_result"
    },
    {
     "data": {
      "image/png": "[encoded data removed]",
      "text/plain": [
       "<Figure size 432x288 with 1 Axes>"
      ]
     },
     "metadata": {
      "needs_background": "light"
     },
     "output_type": "display_data"
    }
   ],
   "source": [
    "x = numpy.arange(10,90,1)\n",
    "y = librosa.midi_to_hz(x)\n",
    "plt.plot(x,y)\n",
    "plt.ylabel('Frequencies(Hz)')\n",
    "plt.xlabel('MIDI notes')\n",
    "plt.title('Plot Frequencies and MIDI Notes')\n"
   ]
  },
  {
   "cell_type": "markdown",
   "metadata": {},
   "source": [
    "## Part 5: Introduce Yourself\n",
    "In no more than a few sentences, describe what you would like to accomplish with this class. Include information about your previous experience with MIR, programming (Python or otherwise), digital signal theory, machine learning, and music."
   ]
  },
  {
   "cell_type": "code",
   "execution_count": 6,
   "metadata": {},
   "outputs": [],
   "source": [
    "# Hi, my name is Elena, I'm a new PhD student in music tech. I have taken digital signal theory and machine learning, and of course I love music! I am a singer and vocal producer. I have taken programming courses and done software internships, and I have some experience with Python."
   ]
  },
  {
   "cell_type": "markdown",
   "metadata": {},
   "source": []
  }
 ],
 "metadata": {
  "@webio": {
   "lastCommId": null,
   "lastKernelId": null
  },
  "kernelspec": {
   "display_name": "Python 3",
   "language": "python",
   "name": "python3"
  },
  "language_info": {
   "codemirror_mode": {
    "name": "ipython",
    "version": 3
   },
   "file_extension": ".py",
   "mimetype": "text/x-python",
   "name": "python",
   "nbconvert_exporter": "python",
   "pygments_lexer": "ipython3",
   "version": "3.8.3"
  }
 },
 "nbformat": 4,
 "nbformat_minor": 4
}
