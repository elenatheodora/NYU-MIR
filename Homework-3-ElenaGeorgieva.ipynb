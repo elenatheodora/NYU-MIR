{
 "cells": [
  {
   "cell_type": "markdown",
   "metadata": {},
   "source": [
    "# Homework 3\n",
    "**Total Points: 5**\n",
    "\n",
    "**Instructions:**\n",
    "1. Complete parts 1 through 5, filling in code or responses where marked with `# YOUR CODE HERE` or `# YOUR ANALYSIS HERE`.\n",
    "2. The libraries you need, in the order you need them, have already been coded. Do not import additional libraries or move import commands.\n",
    "3. When finished, run the full notebook by selecting <b>Kernel > Restart & Run All</b>. </li>\n",
    "4. Submit this completed notebook file to <b>NYU Classes</b>. </li>\n",
    "\n",
    "This assignment contains a subfolder called `audio` which has 6 short audio files. Three of the files have an accompanying \"_reference\" file which has comma-separated reference onsets for your evaluation.\n",
    "\n",
    "**Grading:** Each part is worth 1 point."
   ]
  },
  {
   "cell_type": "code",
   "execution_count": 1,
   "metadata": {},
   "outputs": [],
   "source": [
    "import numpy as np\n",
    "import librosa\n",
    "from matplotlib import pyplot as plt\n",
    "from scipy import signal\n",
    "import pandas as pd"
   ]
  },
  {
   "cell_type": "markdown",
   "metadata": {},
   "source": [
    "## Part 1: Energy-Based Novelty Function\n",
    "Create an energy-based novelty function `energy_novelty()` where the input is an audio signal and the output is the novelty curve of that audio. This function should (1) compute the local energy for each frame, (2) find the first order difference of the local energy, and (3) use half-wave rectification to account only for energy increases. Use `scipy.signal.hann()` to generate a hann window as needed."
   ]
  },
  {
   "cell_type": "code",
   "execution_count": 2,
   "metadata": {},
   "outputs": [],
   "source": [
    "def energy_novelty(x, win_size):\n",
    "    \n",
    "    \"\"\" Calulate an energy-based novelty curve\n",
    "    \n",
    "    Parameters\n",
    "    ----------\n",
    "    \n",
    "    x: np.array\n",
    "        input audio\n",
    "    \n",
    "    win_size: int\n",
    "        samples to advance before next energy calculation aka n_fft\n",
    "        \n",
    "    Returns\n",
    "    -------\n",
    "    \n",
    "    novelty: np.array\n",
    "        novelty curve\n",
    "        \n",
    "    \"\"\"\n",
    "    N = win_size\n",
    "    w = signal.hann(N)\n",
    "\n",
    "    #Calculate local energy\n",
    "    x_square = x**2\n",
    "    energy_local = np.convolve(x_square, w**2 , 'same')\n",
    "\n",
    "    #rmse_diff = np.zeros_like(rmse) #difference\n",
    "    energy_local_diff = np.diff(energy_local)\n",
    "    energy_local_diff = np.concatenate((energy_local_diff, np.array([0])))\n",
    "\n",
    "    # half wave rectification to account for\n",
    "    novelty_energy = np.copy(energy_local_diff)\n",
    "    novelty_energy[energy_local_diff < 0] = 0\n",
    "\n",
    "    return novelty_energy\n",
    "    \n",
    "    \n"
   ]
  },
  {
   "cell_type": "markdown",
   "metadata": {},
   "source": [
    "# Part 2: Spectral Flux Novelty Function\n",
    "Create a function `spectral_flux_novelty()` where the input is an audio signal and the output is the spectral flux novelty curve of that audio. This function should first (1) compute the STFT of the input audio (use `librosa.stft()` where n_fft = win_size and the window type is hann), and (2) compress the spectrogram to highlight the high-frequency content (use $y=50$ or create an additional parameter if you want). "
   ]
  },
  {
   "cell_type": "code",
   "execution_count": 3,
   "metadata": {},
   "outputs": [],
   "source": [
    "def spectral_flux_novelty(x, win_size, hop_size):\n",
    "    \n",
    "    \"\"\" Calulate a spectral flux novelty curve\n",
    "    \n",
    "    Parameters\n",
    "    ----------\n",
    "    \n",
    "    x: np.array\n",
    "        input audio\n",
    "    \n",
    "    win_size: int\n",
    "        window size (samples)\n",
    "    \n",
    "    hop_size: int\n",
    "        hop size (samples)\n",
    "        \n",
    "    Returns\n",
    "    -------\n",
    "    \n",
    "    novelty: np.array\n",
    "        novelty curve\n",
    "        \n",
    "    \"\"\"\n",
    "    # compute stft\n",
    "    X = librosa.stft(x, n_fft=win_size, hop_length=hop_size, win_length=win_size, window='hanning') \n",
    "    \n",
    "    # compress spectrogram to highlight high frequency content. \n",
    "    gamma = 50\n",
    "    Y = np.log(1 + gamma * np.abs(X)) # a log-comp stft which is a matrix. dims 1025 by 44\n",
    "    \n",
    "    # difference spectrum (set first diff to zero)\n",
    "    Y_diff = np.diff(Y, n=1)\n",
    "    Y_diff[Y_diff < 0] = 0\n",
    "    nov = np.sum(Y_diff, axis=0)\n",
    "    nov = np.concatenate((nov, np.array([0])))\n",
    "    Fs_nov = fs/hop_size\n",
    "    \n",
    "    return nov"
   ]
  },
  {
   "cell_type": "markdown",
   "metadata": {},
   "source": [
    "### Test your Novelty Functions\n",
    "Use the space below to test your novelty function. Plot the novelty curves to make sure the output appears as expected. Use the included `drums2.aif` file."
   ]
  },
  {
   "cell_type": "code",
   "execution_count": 4,
   "metadata": {},
   "outputs": [
    {
     "data": {
      "text/plain": [
       "[<matplotlib.lines.Line2D at 0x126095d60>]"
      ]
     },
     "execution_count": 4,
     "metadata": {},
     "output_type": "execute_result"
    },
    {
     "data": {
      "image/png": "[encoded data removed]",
      "text/plain": [
       "<Figure size 432x288 with 2 Axes>"
      ]
     },
     "metadata": {
      "needs_background": "light"
     },
     "output_type": "display_data"
    },
    {
     "data": {
      "text/plain": [
       "<Figure size 1080x432 with 0 Axes>"
      ]
     },
     "metadata": {},
     "output_type": "display_data"
    },
    {
     "data": {
      "text/plain": [
       "<Figure size 1080x432 with 0 Axes>"
      ]
     },
     "metadata": {},
     "output_type": "display_data"
    }
   ],
   "source": [
    "x, fs = librosa.load(\"audio/drums.aif\") # load audio file\n",
    "\n",
    "win_size = 2048\n",
    "hop_size = 1024\n",
    "rmse = energy_novelty(x, win_size) # call 1st novelty function\n",
    "spectral_flux = spectral_flux_novelty(x, win_size, hop_size) # call 2nd enegy function\n",
    "\n",
    "fig, (ax1, ax2) = plt.subplots(2, sharex=True)\n",
    "# plot the novelty curve\n",
    "frames = np.arange(len(rmse))\n",
    "t = librosa.frames_to_time(frames, sr=fs)\n",
    "plt.figure(figsize=(15, 6))\n",
    "ax1.plot(t, rmse, 'b--')\n",
    "\n",
    "# plot 2\n",
    "frames = np.arange(len(spectral_flux))\n",
    "t2 = librosa.frames_to_time(frames, sr=fs/hop_size)\n",
    "plt.figure(figsize=(15, 6))\n",
    "ax2.plot(t2, spectral_flux, 'r-')\n"
   ]
  },
  {
   "cell_type": "markdown",
   "metadata": {},
   "source": [
    "## Part 3: Detect Onsets\n",
    "Create a function `detect onsets()` where the input is the novelty curve and the output is a numpy array of estimated onsets."
   ]
  },
  {
   "cell_type": "code",
   "execution_count": 5,
   "metadata": {},
   "outputs": [],
   "source": [
    "def detect_onsets (n_fn, mean_len, max_len, delta):\n",
    "    \n",
    "    \"\"\" Detect onsets from a novelty curve\n",
    "    \n",
    "    Parameters\n",
    "    ----------\n",
    "    \n",
    "    n_fn: np.array\n",
    "        input novelty curve\n",
    "    \n",
    "    mean_len: int\n",
    "        before and after each sample, used to calculate threshold. \n",
    "    \n",
    "    max_len: int\n",
    "        window around n used to determine if n is a peak. \n",
    "        \n",
    "    delta: int\n",
    "         amount to vertically adjust the threshold (start with delta = 0.05) up/down\n",
    "      \n",
    "    \n",
    "    Returns\n",
    "    -------\n",
    "    \n",
    "    onsets: np.array\n",
    "        detected onsets (frame number)\n",
    "\n",
    "    \"\"\"\n",
    "    # using librosa peaks function to find detected onsets\n",
    "    peaks = librosa.util.peak_pick(n_fn, max_len, max_len, mean_len, mean_len, delta, 2)\n",
    "    \n",
    "    return peaks "
   ]
  },
  {
   "cell_type": "markdown",
   "metadata": {},
   "source": [
    "## Part 4: Evaluation\n",
    "Create a function `evaluate onsets()` where the input is the reference and detected onsets, and the output is the precision, recall, and f-measure (see function description for implementation details regarding the output)."
   ]
  },
  {
   "cell_type": "code",
   "execution_count": 6,
   "metadata": {},
   "outputs": [],
   "source": [
    "def evaluate_onsets(reference_onsets, detected_onsets, tolerance):\n",
    "    \n",
    "    \"\"\" Calculate the precision, recall, and F-measure of the onsets.\n",
    "    \n",
    "    Parameters\n",
    "    ----------\n",
    "    \n",
    "    reference_onsets: np.array\n",
    "        reference onsets\n",
    "    \n",
    "    detected_onsets: np.array\n",
    "        detected onsets\n",
    "    \n",
    "    tolerance: int\n",
    "        tolerance window (samples)\n",
    "        \n",
    "    \n",
    "    Returns\n",
    "    -------\n",
    "    \n",
    "    eval: np.array\n",
    "        Three-element np.array with Precusion, Recall, and F-Measure\n",
    "    \n",
    "    \"\"\"\n",
    "    truepos = 0\n",
    "    \n",
    "    for i in range(len(detected_onsets)):\n",
    "        for n in range(len(reference_onsets)):\n",
    "            min1 = reference_onsets[n] - tolerance\n",
    "            max1 = reference_onsets[n] + tolerance\n",
    "            if detected_onsets[i] >= min1 and detected_onsets[i]<= max1:\n",
    "                truepos += 1\n",
    "    \n",
    "    falsepos = len(detected_onsets) - truepos\n",
    "    falseneg = len(reference_onsets) - truepos\n",
    "    \n",
    "    print (\"truepos: \")\n",
    "    print (truepos)\n",
    "    print (\"falsepos: \")\n",
    "    print (falsepos)\n",
    "    print (\"falseneg: \")\n",
    "    print (falseneg)\n",
    "    \n",
    "    # calculating precision, recall, and f-measure based on values above\n",
    "    precision = truepos/(truepos + falsepos)\n",
    "    recall = truepos/(truepos + falseneg)\n",
    "    fmeas = (2 * precision * recall) / (precision + recall)\n",
    "    \n",
    "    eval = np.array([precision, recall, fmeas]) # final array\n",
    "    \n",
    "    return eval\n"
   ]
  },
  {
   "cell_type": "markdown",
   "metadata": {},
   "source": [
    "### Test Onsets and Evaluation\n",
    "Use this section to test your onset detection/peak picking code and your evaluation code. Use `drums.aif` and the reference onsets below."
   ]
  },
  {
   "cell_type": "code",
   "execution_count": 7,
   "metadata": {},
   "outputs": [
    {
     "name": "stdout",
     "output_type": "stream",
     "text": [
      "truepos: \n",
      "8\n",
      "falsepos: \n",
      "0\n",
      "falseneg: \n",
      "0\n"
     ]
    },
    {
     "data": {
      "text/plain": [
       "array([1., 1., 1.])"
      ]
     },
     "execution_count": 7,
     "metadata": {},
     "output_type": "execute_result"
    }
   ],
   "source": [
    "x, fs = librosa.load(\"audio/drums.aif\")\n",
    "win_size = 2048\n",
    "hop_size = 1024 \n",
    "\n",
    "# given reference onsets\n",
    "reference_onsets = np.array([0.0, 0.25, 0.5, 0.75,  1.0, 1.25, 1.5, 1.75]) #drums\n",
    "#reference_onsets = np.array([0.0, 0.750, 1.125, 1.312, 1.50, 1.688, 2.250, 2.812, 3.188, 3.375]) #guitar\n",
    "#reference_onsets = np.array([0.02321995, 0.65015873, 1.27709751, 2.32199546, 2.48453515, 2.67029478, 3.29723356, 4.57433107]) #trumpet\n",
    "\n",
    "n_fn = spectral_flux_novelty(x, win_size, hop_size) #use spectral flux function\n",
    "\n",
    "# convert to seconds\n",
    "frames = np.arange(len(n_fn))\n",
    "t = librosa.frames_to_time(frames, sr=fs)\n",
    "\n",
    "mean_len = 3\n",
    "max_len = 3\n",
    "delta = .05\n",
    "detected_onsets = detect_onsets (n_fn, mean_len, max_len, delta)\n",
    "detected_onsets = detected_onsets * hop_size / fs # convert to seconds\n",
    "\n",
    "tolerance = .070 #70 ms\n",
    "evaluate_onsets(reference_onsets, detected_onsets, tolerance) # call evaluate_onsets above"
   ]
  },
  {
   "cell_type": "markdown",
   "metadata": {},
   "source": [
    "## Part 5: Analysis\n",
    "Using the audio files and your code in Parts 1 - 4, report on the novelty function and parameters that generate the most accurate results. In your report, include plots and dataframes as necessary to illustrate your findings. Also comment on the character of each audio file included and how that that character may affect how well (or how poorly) a particular onset detection technique may work.\n",
    "\n",
    "(OPTIONAL) If you would like to modify a novelty function or the onset detection process from this assignment, please do so by creating a new function. For example, you may wish to pre-process the novelty curve by applying a smoothing function or by adjusting the peak-picking parameters. If you do decide to create a new function, please comment it thoroughly. If your changes are based on prior academic literature (or web sites), please cite those references appropriately."
   ]
  },
  {
   "cell_type": "code",
   "execution_count": 8,
   "metadata": {
    "scrolled": true
   },
   "outputs": [
    {
     "data": {
      "text/plain": [
       "Text(0, 1, 'Evaluation of Spectral Flux Function')"
      ]
     },
     "execution_count": 8,
     "metadata": {},
     "output_type": "execute_result"
    },
    {
     "data": {
      "image/png": "[encoded data removed]",
      "text/plain": [
       "<Figure size 432x288 with 1 Axes>"
      ]
     },
     "metadata": {},
     "output_type": "display_data"
    }
   ],
   "source": [
    "# plot figure of the 3 values for all 3 audio files\n",
    "fig = plt.figure()\n",
    "ax = fig.add_subplot(111)\n",
    "col_labels = ['precision', 'recall', 'F-score']\n",
    "row_labels = ['Drums', 'Guitar', 'Trumpet']\n",
    "table_vals = [[1.0, 1.0, 1.0], [.47, .90, .62], [.53, 1.0, .69]]\n",
    "\n",
    "# Draw table\n",
    "the_table = plt.table(cellText=table_vals,\n",
    "                      colWidths=[0.1] * 3,\n",
    "                      rowLabels=row_labels,\n",
    "                      colLabels=col_labels,\n",
    "                      loc='center')\n",
    "the_table.auto_set_font_size(False)\n",
    "the_table.set_fontsize(24)\n",
    "the_table.scale(4, 4)\n",
    "\n",
    "# Removing ticks and spines enables you to get the figure only with table\n",
    "plt.tick_params(axis='x', which='both', bottom=False, top=False, labelbottom=False)\n",
    "plt.tick_params(axis='y', which='both', right=False, left=False, labelleft=False)\n",
    "for pos in ['right','top','bottom','left']:\n",
    "    plt.gca().spines[pos].set_visible(False)\n",
    "plt.savefig('matplotlib-table.png', bbox_inches='tight', pad_inches=0.05)\n",
    "\n",
    "# Add title\n",
    "plt.text(0,1,'Evaluation of Spectral Flux Function',size=18, horizontalalignment='center')\n"
   ]
  },
  {
   "cell_type": "markdown",
   "metadata": {},
   "source": [
    "### Results & Analysis: (see plot above)\n",
    "\n",
    "### Drums\n",
    "For drums, I got an F score of 1.0, hooray! Precision and recall were also 1.0 I got 0 false positives and 0 false negatives. \n",
    "This is an indication that my algorithm works great for drums! Drums have a loud, crisp, and clear attack, so it makes sense transients are easier to detect.\n",
    "### Guitar\n",
    "For guitar, I got an F score of 0.62. Precision and recall were .47 and .9, respectively. There was a high rate of false positives - 10 of them, and only one false negative.\n",
    "This file is an exapmple of somewhere with high recall but low precision. The algorithm is right a lot of the time, but it over-selects transients. \n",
    "### Trumpet\n",
    "Finally for trumpet, I got an F score of 0.69. Precision and recall were .53 and 1, respectively. There was a high rate of false positives - 7, but no false negatives.\n",
    "Again, there is high (even perfect!) recall but low precision. That seems to be the case with my spectral flux novelty function. \n",
    "\n",
    "### Further Analysis:\n",
    "Across all three, the energy-based novelty function performed more poorly than the spectral flux novelty function. In the drum example, the energy function misses the hihats.\n",
    "I tried raising the tolerance, hoping to limit false positives. The results were somewhat chaotic and inconsistent.  \n",
    "I did not find a better threshold, it was always a tradeoff with less true false positives or more false pos or false neg."
   ]
  }
 ],
 "metadata": {
  "@webio": {
   "lastCommId": null,
   "lastKernelId": null
  },
  "kernelspec": {
   "display_name": "Python 3",
   "language": "python",
   "name": "python3"
  },
  "language_info": {
   "codemirror_mode": {
    "name": "ipython",
    "version": 3
   },
   "file_extension": ".py",
   "mimetype": "text/x-python",
   "name": "python",
   "nbconvert_exporter": "python",
   "pygments_lexer": "ipython3",
   "version": "3.8.3"
  }
 },
 "nbformat": 4,
 "nbformat_minor": 4
}
